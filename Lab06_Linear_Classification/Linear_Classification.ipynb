{
 "cells": [
  {
   "cell_type": "markdown",
   "metadata": {},
   "source": [
    "# Linear Classification\n",
    "\n",
    "In this lab you will implement parts of a linear classification model using the regularized empirical risk minimization principle. By completing this lab and analysing the code, you gain deeper understanding of these type of models, and of gradient descent.\n",
    "\n",
    "\n",
    "## Problem Setting\n",
    "\n",
    "The dataset describes diagnosing of cardiac Single Proton Emission Computed Tomography (SPECT) images. Each of the patients is classified into two categories: normal (1) and abnormal (0). The training data contains 80 SPECT images from which 22 binary features have been extracted. The goal is to predict the label for an unseen test set of 187 tomography images."
   ]
  },
  {
   "cell_type": "code",
   "execution_count": 1,
   "metadata": {
    "scrolled": true
   },
   "outputs": [],
   "source": [
    "import urllib\n",
    "import pandas as pd\n",
    "import numpy as np\n",
    "# for auto-reloading external modules\n",
    "# see http://stackoverflow.com/questions/1907993/autoreload-of-modules-in-ipython\n",
    "%load_ext autoreload\n",
    "%autoreload 2\n",
    "\n",
    "testfile = urllib.URLopener()\n",
    "testfile.retrieve(\"http://archive.ics.uci.edu/ml/machine-learning-databases/spect/SPECT.train\", \"SPECT.train\")\n",
    "testfile.retrieve(\"http://archive.ics.uci.edu/ml/machine-learning-databases/spect/SPECT.test\", \"SPECT.test\")\n",
    "\n",
    "df_train = pd.read_csv('SPECT.train',header=None)\n",
    "df_test = pd.read_csv('SPECT.test',header=None)\n",
    "\n",
    "train = df_train.as_matrix()\n",
    "test = df_test.as_matrix()\n",
    "\n",
    "y_train = train[:,0]\n",
    "X_train = train[:,1:]\n",
    "y_test = test[:,0]\n",
    "X_test = test[:,1:]"
   ]
  },
  {
   "cell_type": "code",
   "execution_count": 2,
   "metadata": {},
   "outputs": [
    {
     "data": {
      "text/plain": [
       "80"
      ]
     },
     "execution_count": 2,
     "metadata": {},
     "output_type": "execute_result"
    }
   ],
   "source": [
    "len(y_train)"
   ]
  },
  {
   "cell_type": "markdown",
   "metadata": {},
   "source": [
    "### Exercise 1\n",
    "\n",
    "Analyze the function learn_reg_ERM(X,y,lambda) which for a given $n\\times m$ data matrix $\\textbf{X}$ and binary class label $\\textbf{y}$ learns and returns a linear model $\\textbf{w}$.\n",
    "The binary class label has to be transformed so that its range is $\\left \\{-1,1 \\right \\}$. \n",
    "The trade-off parameter between the empirical loss and the regularizer is given by $\\lambda > 0$. \n",
    "Try to understand each step of the learning algorithm and comment each line."
   ]
  },
  {
   "cell_type": "code",
   "execution_count": 3,
   "metadata": {},
   "outputs": [],
   "source": [
    "def learn_reg_ERM(X,y,lbda):\n",
    "    max_iter = 200\n",
    "    e  = 0.001\n",
    "    alpha = 1.\n",
    "\n",
    "    w = np.random.randn(X.shape[1]);\n",
    "    for k in np.arange(max_iter):\n",
    "        h = np.dot(X,w)\n",
    "        l,lg = loss(h, y)\n",
    "        print 'loss: {}'.format(np.mean(l))\n",
    "        r,rg = reg(w, lbda)\n",
    "        g = np.dot(X.T,lg) + rg \n",
    "        if (k > 0):\n",
    "            alpha = alpha * (np.dot(g_old.T,g_old))/(np.dot((g_old - g).T,g_old))\n",
    "        w = w - alpha * g\n",
    "        if (np.linalg.norm(alpha * g) < e):\n",
    "            break\n",
    "        g_old = g\n",
    "    return w"
   ]
  },
  {
   "cell_type": "markdown",
   "metadata": {},
   "source": [
    "### Exercise 2\n",
    "\n",
    "Fill in the code for the function loss(h,y) which computes the hinge loss and its gradient. \n",
    "This function takes a given vector $\\textbf{y}$ with the true labels $\\in \\left \\{-1,1\\right \\}$ and a vector $\\textbf{h}$ with the function values of the linear model as inputs. The function returns a vector $\\textbf{l}$ with the hinge loss $\\max(0, 1 − y_{i} h_{i})$ and a vector $\\textbf{g}$ with the gradients of the hinge loss at the points $h_i$. The partial derivative of the hinge loss $h_i$ with respect to the $i$-th position of the weight vector $\\textbf{w}$ is $g_{i} = −y x_{i}$ if $l_{i} > 0$, else $g_{i} = 0$)."
   ]
  },
  {
   "cell_type": "code",
   "execution_count": 4,
   "metadata": {},
   "outputs": [],
   "source": [
    "def loss(h, y):\n",
    "    hy = h*y\n",
    "    \n",
    "    l = np.maximum(0, 1 - hy)\n",
    "    g = np.where(l > 0, -1 * y, 0)\n",
    "    ##################\n",
    "    #INSERT CODE HERE#\n",
    "    ##################\n",
    "    return l, g"
   ]
  },
  {
   "cell_type": "markdown",
   "metadata": {},
   "source": [
    "### Exercise 3\n",
    "\n",
    "Fill in the code for the function reg(w,lambda) which computes the $\\mathcal{L}_2$-regularizer and the gradient of the regularizer function at point $\\textbf{w}$. \n",
    "\n",
    "\n",
    "$$r = \\frac{\\lambda}{2} \\textbf{w}^{T}\\textbf{w}$$\n",
    "\n",
    "$$g = \\lambda \\textbf{w}$$"
   ]
  },
  {
   "cell_type": "code",
   "execution_count": 5,
   "metadata": {},
   "outputs": [],
   "source": [
    "def reg(w, lbda):\n",
    "    r = (lbda / 2) * np.dot(np.transpose(w), w)\n",
    "    g = lbda * w\n",
    "    ##################\n",
    "    #INSERT CODE HERE#\n",
    "    ##################\n",
    "    return r, g"
   ]
  },
  {
   "cell_type": "markdown",
   "metadata": {},
   "source": [
    "### Exercise 4\n",
    "\n",
    "Fill in the code for the function predict(w,x) which predicts the class label $y$ for a data point $\\textbf{x}$ or a matrix $X$ of data points (row-wise) for a previously trained linear model $\\textbf{w}$. If there is only a data point given, the function is supposed to return a scalar value. If a matrix is given a vector of predictions is supposed to be returned."
   ]
  },
  {
   "cell_type": "code",
   "execution_count": 6,
   "metadata": {},
   "outputs": [],
   "source": [
    "def predict(w, X):\n",
    "    preds = np.dot(X, w)\n",
    "    ##################\n",
    "    #INSERT CODE HERE#\n",
    "    ##################\n",
    "    return preds"
   ]
  },
  {
   "cell_type": "markdown",
   "metadata": {},
   "source": [
    "### Exercise 5\n",
    "\n",
    "#### 5.1 \n",
    "Train a linear model on the training data and classify all 187 test instances afterwards using the function predict. \n",
    "Please note that the given class labels are in the range $\\left \\{0,1 \\right \\}$, however the learning algorithm expects a label in the range of $\\left \\{-1,1 \\right \\}$. Then, compute the accuracy of your trained linear model on both the training and the test data. "
   ]
  },
  {
   "cell_type": "code",
   "execution_count": 7,
   "metadata": {},
   "outputs": [
    {
     "name": "stdout",
     "output_type": "stream",
     "text": [
      "c\n",
      "d\n",
      "e\n",
      "f\n",
      "loss: 1.90691561641\n",
      "loss: 13.502280611\n",
      "loss: 0.868704088589\n",
      "loss: 0.947283344971\n",
      "loss: 1.00405835477\n",
      "loss: 0.760216404587\n",
      "loss: 0.73846511886\n",
      "loss: 0.743717642879\n",
      "loss: 0.734910031688\n",
      "loss: 0.738202582573\n",
      "loss: 0.735778009575\n",
      "loss: 0.75\n",
      "loss: 0.745334727927\n",
      "loss: 0.73799142291\n",
      "loss: 0.736590180604\n",
      "loss: 0.736795304525\n",
      "loss: 0.736308770632\n",
      "loss: 0.736827020159\n",
      "loss: 0.736434803385\n",
      "loss: 0.736173676921\n",
      "loss: 0.73623589644\n",
      "loss: 0.745\n",
      "loss: 0.736639779289\n",
      "loss: 0.738730515107\n",
      "loss: 0.73614268302\n",
      "loss: 0.734158606638\n",
      "loss: 0.735919647559\n",
      "loss: 0.733616100894\n",
      "loss: 0.734740058113\n",
      "loss: 0.734063310616\n",
      "loss: 0.734168622156\n",
      "loss: 0.733958365168\n",
      "loss: 0.734170549708\n",
      "loss: 0.734034613462\n",
      "loss: 0.734085949546\n",
      "g\n"
     ]
    }
   ],
   "source": [
    "##################\n",
    "#INSERT CODE HERE#\n",
    "##################\n",
    "def inputize(y):\n",
    "    y = [-1 if elem == 0 else elem for elem in y]\n",
    "    return np.array(y)\n",
    "\n",
    "y_train_i = inputize(y_train)\n",
    "y_test_i = inputize(y_test)\n",
    "model = learn_reg_ERM(X_train, y_train_i, 15)"
   ]
  },
  {
   "cell_type": "code",
   "execution_count": 8,
   "metadata": {},
   "outputs": [
    {
     "name": "stdout",
     "output_type": "stream",
     "text": [
      "0.6625\n",
      "0.9090909090909091\n"
     ]
    }
   ],
   "source": [
    "\n",
    "preds_train = predict(model, X_train)\n",
    "preds_test = predict(model, X_test)\n",
    "\n",
    "def acc(preds, actual):\n",
    "    preds = np.where(preds <= 0, 0, 1)\n",
    "    score = np.sum(np.where(preds == actual, 1.0, 0.0))\n",
    "    dataset_size = len(actual)\n",
    "    return score / dataset_size\n",
    "\n",
    "print(acc(preds_train, y_train))\n",
    "print(acc(preds_test, y_test))"
   ]
  },
  {
   "cell_type": "markdown",
   "metadata": {},
   "source": [
    "#### 5.2\n",
    "Compare the accuracy of the linear model with the accuracy of a random forest and a decision tree on the training and test data set."
   ]
  },
  {
   "cell_type": "code",
   "execution_count": 9,
   "metadata": {},
   "outputs": [],
   "source": [
    "##################\n",
    "#INSERT CODE HERE#\n",
    "##################"
   ]
  }
 ],
 "metadata": {
  "kernelspec": {
   "display_name": "Python 2",
   "language": "python",
   "name": "python2"
  },
  "language_info": {
   "codemirror_mode": {
    "name": "ipython",
    "version": 2
   },
   "file_extension": ".py",
   "mimetype": "text/x-python",
   "name": "python",
   "nbconvert_exporter": "python",
   "pygments_lexer": "ipython2",
   "version": "2.7.14"
  }
 },
 "nbformat": 4,
 "nbformat_minor": 1
}
